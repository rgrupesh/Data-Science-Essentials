{
 "cells": [
  {
   "cell_type": "code",
   "execution_count": 1,
   "id": "c6ad3927",
   "metadata": {},
   "outputs": [],
   "source": [
    "import numpy as np"
   ]
  },
  {
   "cell_type": "code",
   "execution_count": 2,
   "id": "82bb3fb9",
   "metadata": {},
   "outputs": [
    {
     "data": {
      "text/plain": [
       "'1.21.5'"
      ]
     },
     "execution_count": 2,
     "metadata": {},
     "output_type": "execute_result"
    }
   ],
   "source": [
    "np.__version__"
   ]
  },
  {
   "cell_type": "markdown",
   "id": "c26c4231",
   "metadata": {},
   "source": [
    "## Integer"
   ]
  },
  {
   "cell_type": "markdown",
   "id": "36be746b",
   "metadata": {},
   "source": [
    "Python dynamically typed, unlike C and Java(Statically typed)\n",
    "\n",
    "**In Python** \n",
    "\n",
    "int x = 4\n",
    "\n",
    "int x = \"Rupesh\" //works\n",
    "\n",
    "**In C/Java**\n",
    "\n",
    "int x = 4\n",
    "\n",
    "int x = \"Rupesh\" //fails"
   ]
  },
  {
   "cell_type": "markdown",
   "id": "8c632b90",
   "metadata": {},
   "source": [
    "Python Integer is pointer to compound C structure. C integer is a label for postion in memory whose bytes encodes an integer value. Python integer is pointer to a position in a memory containing all the Python object information.\n",
    "\n",
    "**long integer contains:**\n",
    "\n",
    "struct _longobject {\n",
    "\n",
    "    long ob_refcnt;\n",
    "    PyTypeObject *ob_type;\n",
    "    size_t ob_size;\n",
    "    long ob_digit[1];\n",
    "    \n",
    "};\n",
    "\n"
   ]
  },
  {
   "cell_type": "markdown",
   "id": "341a41aa",
   "metadata": {},
   "source": [
    "## List"
   ]
  },
  {
   "cell_type": "code",
   "execution_count": 3,
   "id": "bb6e3df2",
   "metadata": {},
   "outputs": [
    {
     "data": {
      "text/plain": [
       "[0, 1, 2, 3, 4, 5, 6, 7, 8, 9]"
      ]
     },
     "execution_count": 3,
     "metadata": {},
     "output_type": "execute_result"
    }
   ],
   "source": [
    "L = list(range(10))\n",
    "L"
   ]
  },
  {
   "cell_type": "code",
   "execution_count": 4,
   "id": "77becd92",
   "metadata": {},
   "outputs": [
    {
     "data": {
      "text/plain": [
       "int"
      ]
     },
     "execution_count": 4,
     "metadata": {},
     "output_type": "execute_result"
    }
   ],
   "source": [
    "type(L[1])"
   ]
  },
  {
   "cell_type": "code",
   "execution_count": 5,
   "id": "1a8f739b",
   "metadata": {},
   "outputs": [
    {
     "data": {
      "text/plain": [
       "['0', '1', '2', '3', '4', '5', '6', '7', '8', '9']"
      ]
     },
     "execution_count": 5,
     "metadata": {},
     "output_type": "execute_result"
    }
   ],
   "source": [
    "L = [ str(item) for item in L]\n",
    "L"
   ]
  },
  {
   "cell_type": "code",
   "execution_count": 6,
   "id": "19676e7b",
   "metadata": {},
   "outputs": [
    {
     "data": {
      "text/plain": [
       "str"
      ]
     },
     "execution_count": 6,
     "metadata": {},
     "output_type": "execute_result"
    }
   ],
   "source": [
    "type(L[0])"
   ]
  },
  {
   "cell_type": "code",
   "execution_count": 7,
   "id": "73b6e37d",
   "metadata": {},
   "outputs": [
    {
     "data": {
      "text/plain": [
       "[bool, str, int, float]"
      ]
     },
     "execution_count": 7,
     "metadata": {},
     "output_type": "execute_result"
    }
   ],
   "source": [
    "new_list = [ True, \"Rupesh\", 1, 2.0]\n",
    "[type(item) for item in new_list]"
   ]
  },
  {
   "cell_type": "markdown",
   "id": "19c4d9f8",
   "metadata": {},
   "source": [
    "List are flexible but comes with disadvantage, all item needs to have type info, count and other information. Python list contains pointer to block of pointer which inturn has all the necessary information. Python array contains single pointer to one contigous block of data. "
   ]
  },
  {
   "cell_type": "markdown",
   "id": "ecf8549f",
   "metadata": {},
   "source": [
    "## Array"
   ]
  },
  {
   "cell_type": "code",
   "execution_count": 8,
   "id": "a147a133",
   "metadata": {},
   "outputs": [],
   "source": [
    "import array"
   ]
  },
  {
   "cell_type": "code",
   "execution_count": 9,
   "id": "72fe1c32",
   "metadata": {},
   "outputs": [
    {
     "data": {
      "text/plain": [
       "array('f', [0.0, 1.0, 2.0, 3.0, 4.0, 5.0, 6.0, 7.0, 8.0, 9.0])"
      ]
     },
     "execution_count": 9,
     "metadata": {},
     "output_type": "execute_result"
    }
   ],
   "source": [
    "arr = array.array('f',range(10))\n",
    "arr"
   ]
  },
  {
   "cell_type": "markdown",
   "id": "8c06330d",
   "metadata": {},
   "source": [
    "Although Python array provides efficient data storage, Numpy provides efficient operations on those data. "
   ]
  },
  {
   "cell_type": "markdown",
   "id": "610b7dc7",
   "metadata": {},
   "source": [
    "## Array from Python List"
   ]
  },
  {
   "cell_type": "code",
   "execution_count": 10,
   "id": "83485bf6",
   "metadata": {},
   "outputs": [
    {
     "data": {
      "text/plain": [
       "array([1, 2, 3])"
      ]
     },
     "execution_count": 10,
     "metadata": {},
     "output_type": "execute_result"
    }
   ],
   "source": [
    "np_arr = np.array([1,2,3])\n",
    "np_arr"
   ]
  },
  {
   "cell_type": "code",
   "execution_count": 11,
   "id": "0373a381",
   "metadata": {},
   "outputs": [
    {
     "data": {
      "text/plain": [
       "numpy.ndarray"
      ]
     },
     "execution_count": 11,
     "metadata": {},
     "output_type": "execute_result"
    }
   ],
   "source": [
    "type(np_arr)"
   ]
  },
  {
   "cell_type": "code",
   "execution_count": 12,
   "id": "14a8bc3f",
   "metadata": {},
   "outputs": [
    {
     "data": {
      "text/plain": [
       "array([1., 2., 3., 4.])"
      ]
     },
     "execution_count": 12,
     "metadata": {},
     "output_type": "execute_result"
    }
   ],
   "source": [
    "arr= np.array([1.0,2,3,4.0])\n",
    "arr #upcasts to float"
   ]
  },
  {
   "cell_type": "code",
   "execution_count": 13,
   "id": "498992c0",
   "metadata": {},
   "outputs": [
    {
     "data": {
      "text/plain": [
       "array([1., 2., 3., 4.], dtype=float32)"
      ]
     },
     "execution_count": 13,
     "metadata": {},
     "output_type": "execute_result"
    }
   ],
   "source": [
    "np.array([1,2,3,4], dtype='float32')"
   ]
  },
  {
   "cell_type": "code",
   "execution_count": 14,
   "id": "c6c7e395",
   "metadata": {},
   "outputs": [
    {
     "data": {
      "text/plain": [
       "array([[2, 3, 4],\n",
       "       [3, 4, 5],\n",
       "       [4, 5, 6]])"
      ]
     },
     "execution_count": 14,
     "metadata": {},
     "output_type": "execute_result"
    }
   ],
   "source": [
    "np.array([range(i, i+3) for i in [2,3,4]]) # multi-dimensional array "
   ]
  },
  {
   "cell_type": "markdown",
   "id": "f53b3c29",
   "metadata": {},
   "source": [
    "## More ways to create numpy array"
   ]
  },
  {
   "cell_type": "code",
   "execution_count": 15,
   "id": "3774e89c",
   "metadata": {},
   "outputs": [
    {
     "data": {
      "text/plain": [
       "array([0, 0, 0, 0, 0, 0, 0, 0, 0, 0])"
      ]
     },
     "execution_count": 15,
     "metadata": {},
     "output_type": "execute_result"
    }
   ],
   "source": [
    "np.zeros(10,dtype='int') #length 10 array filled with zero"
   ]
  },
  {
   "cell_type": "code",
   "execution_count": 16,
   "id": "67e1f4bf",
   "metadata": {},
   "outputs": [
    {
     "data": {
      "text/plain": [
       "array([[1., 1., 1., 1., 1.],\n",
       "       [1., 1., 1., 1., 1.]], dtype=float32)"
      ]
     },
     "execution_count": 16,
     "metadata": {},
     "output_type": "execute_result"
    }
   ],
   "source": [
    "np.ones((2,5),dtype= np.float32) # 2*5 floating point array filled with one"
   ]
  },
  {
   "cell_type": "code",
   "execution_count": 17,
   "id": "3857e8ec",
   "metadata": {},
   "outputs": [
    {
     "data": {
      "text/plain": [
       "array([[100, 100, 100, 100, 100],\n",
       "       [100, 100, 100, 100, 100],\n",
       "       [100, 100, 100, 100, 100]])"
      ]
     },
     "execution_count": 17,
     "metadata": {},
     "output_type": "execute_result"
    }
   ],
   "source": [
    "np.full((3,5),100) #3*5 array filled with number 100"
   ]
  },
  {
   "cell_type": "code",
   "execution_count": 18,
   "id": "74fe15d7",
   "metadata": {},
   "outputs": [
    {
     "data": {
      "text/plain": [
       "array([ 0,  2,  4,  6,  8, 10, 12, 14, 16, 18])"
      ]
     },
     "execution_count": 18,
     "metadata": {},
     "output_type": "execute_result"
    }
   ],
   "source": [
    "np.arange(0,20,2) #start 0, end before 20, step 2, similar to built in range function"
   ]
  },
  {
   "cell_type": "code",
   "execution_count": 19,
   "id": "85741862",
   "metadata": {},
   "outputs": [
    {
     "data": {
      "text/plain": [
       "array([0.  , 0.25, 0.5 , 0.75, 1.  ])"
      ]
     },
     "execution_count": 19,
     "metadata": {},
     "output_type": "execute_result"
    }
   ],
   "source": [
    "np.linspace(0,1,5) #array of five equally spaced values between 0 to 1"
   ]
  },
  {
   "cell_type": "code",
   "execution_count": 20,
   "id": "031bc2e8",
   "metadata": {},
   "outputs": [
    {
     "data": {
      "text/plain": [
       "array([[0.5875403 , 0.80919831, 0.95406712, 0.8830601 ],\n",
       "       [0.84400997, 0.08780804, 0.78728608, 0.81834622],\n",
       "       [0.24281001, 0.75958893, 0.79570683, 0.56229445],\n",
       "       [0.93258543, 0.55900344, 0.99578008, 0.71613956]])"
      ]
     },
     "execution_count": 20,
     "metadata": {},
     "output_type": "execute_result"
    }
   ],
   "source": [
    "np.random.random((4,4)) # creates 4*4 array of uniformly distributed random values between 0 and 1"
   ]
  },
  {
   "cell_type": "code",
   "execution_count": 21,
   "id": "fb0c1166",
   "metadata": {},
   "outputs": [
    {
     "data": {
      "text/plain": [
       "array([[ 1.14279255, -1.28071118,  0.70323445,  0.08776478],\n",
       "       [ 0.71933567, -0.64616229, -0.35028729,  0.66154812],\n",
       "       [ 0.72964311,  0.97287662, -1.86697677,  1.43451389],\n",
       "       [-0.99238361,  0.83605405, -1.33492136, -0.37816967]])"
      ]
     },
     "execution_count": 21,
     "metadata": {},
     "output_type": "execute_result"
    }
   ],
   "source": [
    "np.random.normal(0,1,(4,4)) # creates 4*4 array of normally distribued random values having mean 0 and standard deviation 1"
   ]
  },
  {
   "cell_type": "code",
   "execution_count": 22,
   "id": "721f3f9d",
   "metadata": {},
   "outputs": [
    {
     "data": {
      "text/plain": [
       "array([[18,  5,  8,  5],\n",
       "       [ 6, 18,  2, 17],\n",
       "       [ 1,  7,  4,  9],\n",
       "       [ 6,  2, 15,  7]])"
      ]
     },
     "execution_count": 22,
     "metadata": {},
     "output_type": "execute_result"
    }
   ],
   "source": [
    "np.random.randint(1,20,(4,4)) #4*4 array of random integer between 1 and 20"
   ]
  },
  {
   "cell_type": "code",
   "execution_count": 23,
   "id": "afc421b3",
   "metadata": {},
   "outputs": [
    {
     "data": {
      "text/plain": [
       "array([[1., 0., 0.],\n",
       "       [0., 1., 0.],\n",
       "       [0., 0., 1.]])"
      ]
     },
     "execution_count": 23,
     "metadata": {},
     "output_type": "execute_result"
    }
   ],
   "source": [
    "np.eye(3) #creates 3*3 identity matrix"
   ]
  },
  {
   "cell_type": "code",
   "execution_count": 24,
   "id": "4417373c",
   "metadata": {},
   "outputs": [
    {
     "data": {
      "text/plain": [
       "array([1., 1., 1.])"
      ]
     },
     "execution_count": 24,
     "metadata": {},
     "output_type": "execute_result"
    }
   ],
   "source": [
    "np.empty(3, dtype='float') #uninitialized array "
   ]
  },
  {
   "cell_type": "markdown",
   "id": "5f4cc0ad",
   "metadata": {},
   "source": [
    "## Array attributes"
   ]
  },
  {
   "cell_type": "code",
   "execution_count": 25,
   "id": "85bea4e5",
   "metadata": {},
   "outputs": [
    {
     "data": {
      "text/plain": [
       "array([[[1, 8, 0, 5, 1],\n",
       "        [5, 1, 3, 5, 2],\n",
       "        [4, 5, 9, 3, 4],\n",
       "        [4, 1, 3, 5, 2]],\n",
       "\n",
       "       [[1, 8, 2, 3, 9],\n",
       "        [2, 8, 6, 2, 9],\n",
       "        [6, 3, 1, 6, 8],\n",
       "        [8, 1, 5, 4, 5]],\n",
       "\n",
       "       [[2, 7, 2, 0, 6],\n",
       "        [0, 0, 7, 8, 9],\n",
       "        [6, 6, 0, 3, 6],\n",
       "        [8, 4, 5, 4, 1]]])"
      ]
     },
     "execution_count": 25,
     "metadata": {},
     "output_type": "execute_result"
    }
   ],
   "source": [
    "arr= np.random.randint(10,size= (3,4,5))\n",
    "arr"
   ]
  },
  {
   "cell_type": "code",
   "execution_count": 26,
   "id": "eaa48a46",
   "metadata": {},
   "outputs": [
    {
     "name": "stdout",
     "output_type": "stream",
     "text": [
      "shape= (3, 4, 5) ,ndim= 3 ,size= 60 ,dtype= int64\n"
     ]
    }
   ],
   "source": [
    "print(\"shape=\", arr.shape, \",ndim=\", arr.ndim , \",size=\", arr.size, \",dtype=\", arr.dtype)"
   ]
  },
  {
   "cell_type": "code",
   "execution_count": 27,
   "id": "e55d23ed",
   "metadata": {},
   "outputs": [
    {
     "name": "stdout",
     "output_type": "stream",
     "text": [
      "Shape= 60 \n"
     ]
    }
   ],
   "source": [
    "print(f\"Shape= {str(arr.size)} \")"
   ]
  },
  {
   "cell_type": "code",
   "execution_count": 28,
   "id": "2ad989cd",
   "metadata": {},
   "outputs": [
    {
     "name": "stdout",
     "output_type": "stream",
     "text": [
      "Size of each element(in bytes) 8 \n",
      "Size of total element(in bytes) 480\n"
     ]
    }
   ],
   "source": [
    "print(\"Size of each element(in bytes)\", arr.itemsize, \"\\n\" \"Size of total element(in bytes)\", arr.nbytes)"
   ]
  },
  {
   "cell_type": "markdown",
   "id": "db376e54",
   "metadata": {},
   "source": [
    "## Array Indexing"
   ]
  },
  {
   "cell_type": "code",
   "execution_count": 29,
   "id": "890f8bb4",
   "metadata": {},
   "outputs": [
    {
     "data": {
      "text/plain": [
       "array([[20, 17, 13, 24],\n",
       "       [27, 25, 26, 28],\n",
       "       [13, 22, 20, 27],\n",
       "       [29, 15, 26, 27]])"
      ]
     },
     "execution_count": 29,
     "metadata": {},
     "output_type": "execute_result"
    }
   ],
   "source": [
    "arr = np.random.randint(10,30,(4,4))\n",
    "arr"
   ]
  },
  {
   "cell_type": "code",
   "execution_count": 30,
   "id": "8acee567",
   "metadata": {},
   "outputs": [
    {
     "data": {
      "text/plain": [
       "20"
      ]
     },
     "execution_count": 30,
     "metadata": {},
     "output_type": "execute_result"
    }
   ],
   "source": [
    "arr[0,0]"
   ]
  },
  {
   "cell_type": "code",
   "execution_count": 31,
   "id": "a797fad1",
   "metadata": {},
   "outputs": [
    {
     "data": {
      "text/plain": [
       "array([[13, 22, 20, 27]])"
      ]
     },
     "execution_count": 31,
     "metadata": {},
     "output_type": "execute_result"
    }
   ],
   "source": [
    "arr[2:-1]"
   ]
  },
  {
   "cell_type": "code",
   "execution_count": 32,
   "id": "5d14135b",
   "metadata": {},
   "outputs": [
    {
     "data": {
      "text/plain": [
       "array([ 5,  7,  9, 11, 13])"
      ]
     },
     "execution_count": 32,
     "metadata": {},
     "output_type": "execute_result"
    }
   ],
   "source": [
    "arr1 = np.arange(5,15,2)\n",
    "arr1"
   ]
  },
  {
   "cell_type": "code",
   "execution_count": 33,
   "id": "6dd640ff",
   "metadata": {},
   "outputs": [
    {
     "data": {
      "text/plain": [
       "array([ 5,  7,  9, 11, 15])"
      ]
     },
     "execution_count": 33,
     "metadata": {},
     "output_type": "execute_result"
    }
   ],
   "source": [
    "arr1[4] = 15\n",
    "arr1"
   ]
  },
  {
   "cell_type": "code",
   "execution_count": 34,
   "id": "6926f319",
   "metadata": {},
   "outputs": [],
   "source": [
    "arr[3,3] = 3.14\n"
   ]
  },
  {
   "cell_type": "code",
   "execution_count": 35,
   "id": "ae8d4642",
   "metadata": {},
   "outputs": [
    {
     "data": {
      "text/plain": [
       "array([[20, 17, 13, 24],\n",
       "       [27, 25, 26, 28],\n",
       "       [13, 22, 20, 27],\n",
       "       [29, 15, 26,  3]])"
      ]
     },
     "execution_count": 35,
     "metadata": {},
     "output_type": "execute_result"
    }
   ],
   "source": [
    "arr #gets sliently truncated"
   ]
  },
  {
   "cell_type": "code",
   "execution_count": 36,
   "id": "dbbdddf6",
   "metadata": {},
   "outputs": [
    {
     "data": {
      "text/plain": [
       "dtype('int64')"
      ]
     },
     "execution_count": 36,
     "metadata": {},
     "output_type": "execute_result"
    }
   ],
   "source": [
    "arr.dtype"
   ]
  },
  {
   "cell_type": "markdown",
   "id": "e6979266",
   "metadata": {},
   "source": [
    "## Array Slicing"
   ]
  },
  {
   "cell_type": "code",
   "execution_count": 37,
   "id": "cf17be3b",
   "metadata": {},
   "outputs": [
    {
     "data": {
      "text/plain": [
       "array([0, 1, 2, 3, 4, 5, 6, 7, 8, 9])"
      ]
     },
     "execution_count": 37,
     "metadata": {},
     "output_type": "execute_result"
    }
   ],
   "source": [
    "arr= np.arange(10)\n",
    "arr"
   ]
  },
  {
   "cell_type": "code",
   "execution_count": 39,
   "id": "c239ddaf",
   "metadata": {},
   "outputs": [
    {
     "data": {
      "text/plain": [
       "array([0, 2, 4, 6, 8])"
      ]
     },
     "execution_count": 39,
     "metadata": {},
     "output_type": "execute_result"
    }
   ],
   "source": [
    "arr[::2] #start,stop,index"
   ]
  },
  {
   "cell_type": "code",
   "execution_count": 40,
   "id": "6f8ba1c2",
   "metadata": {},
   "outputs": [
    {
     "data": {
      "text/plain": [
       "array([9, 8, 7, 6, 5, 4, 3, 2, 1, 0])"
      ]
     },
     "execution_count": 40,
     "metadata": {},
     "output_type": "execute_result"
    }
   ],
   "source": [
    "arr[::-1] #reverese"
   ]
  },
  {
   "cell_type": "code",
   "execution_count": 42,
   "id": "5131148e",
   "metadata": {},
   "outputs": [
    {
     "data": {
      "text/plain": [
       "array([5, 3, 1])"
      ]
     },
     "execution_count": 42,
     "metadata": {},
     "output_type": "execute_result"
    }
   ],
   "source": [
    "arr[5::-2] #every other item reveresed from 5"
   ]
  },
  {
   "cell_type": "code",
   "execution_count": 63,
   "id": "a2acf774",
   "metadata": {},
   "outputs": [
    {
     "data": {
      "text/plain": [
       "array([[12,  7, 14],\n",
       "       [ 8,  9,  4],\n",
       "       [15,  1, 12]])"
      ]
     },
     "execution_count": 63,
     "metadata": {},
     "output_type": "execute_result"
    }
   ],
   "source": [
    "arr = np.random.randint(1,20,(3,3))\n",
    "arr"
   ]
  },
  {
   "cell_type": "code",
   "execution_count": 46,
   "id": "4c9bdb55",
   "metadata": {},
   "outputs": [
    {
     "data": {
      "text/plain": [
       "array([[ 6, 15],\n",
       "       [11,  6],\n",
       "       [18,  5]])"
      ]
     },
     "execution_count": 46,
     "metadata": {},
     "output_type": "execute_result"
    }
   ],
   "source": [
    "arr[:3,:2] #three rows, two columns"
   ]
  },
  {
   "cell_type": "code",
   "execution_count": 49,
   "id": "377b841e",
   "metadata": {},
   "outputs": [
    {
     "data": {
      "text/plain": [
       "array([[ 6, 15, 15],\n",
       "       [18,  5,  3]])"
      ]
     },
     "execution_count": 49,
     "metadata": {},
     "output_type": "execute_result"
    }
   ],
   "source": [
    "arr[::2,:3] #every other row, all columns"
   ]
  },
  {
   "cell_type": "code",
   "execution_count": 61,
   "id": "c5b875a0",
   "metadata": {},
   "outputs": [
    {
     "data": {
      "text/plain": [
       "array([[18, 14, 10],\n",
       "       [15,  4, 17],\n",
       "       [ 7,  4,  9]])"
      ]
     },
     "execution_count": 61,
     "metadata": {},
     "output_type": "execute_result"
    }
   ],
   "source": [
    "arr[::-1,::-1]"
   ]
  },
  {
   "cell_type": "code",
   "execution_count": 64,
   "id": "f880d52f",
   "metadata": {},
   "outputs": [
    {
     "data": {
      "text/plain": [
       "array([[12,  7, 14],\n",
       "       [ 8,  9,  4],\n",
       "       [15,  1, 12]])"
      ]
     },
     "execution_count": 64,
     "metadata": {},
     "output_type": "execute_result"
    }
   ],
   "source": [
    "arr"
   ]
  },
  {
   "cell_type": "code",
   "execution_count": 65,
   "id": "0375af5c",
   "metadata": {},
   "outputs": [
    {
     "data": {
      "text/plain": [
       "array([12,  7, 14])"
      ]
     },
     "execution_count": 65,
     "metadata": {},
     "output_type": "execute_result"
    }
   ],
   "source": [
    "arr[0,:] #0th row, all columns, combine both indexing and slicing"
   ]
  },
  {
   "cell_type": "code",
   "execution_count": 66,
   "id": "35c8cbeb",
   "metadata": {},
   "outputs": [
    {
     "data": {
      "text/plain": [
       "array([12,  8, 15])"
      ]
     },
     "execution_count": 66,
     "metadata": {},
     "output_type": "execute_result"
    }
   ],
   "source": [
    "arr[:,0] #all rows, 0th column"
   ]
  },
  {
   "cell_type": "code",
   "execution_count": 68,
   "id": "b856364b",
   "metadata": {},
   "outputs": [
    {
     "data": {
      "text/plain": [
       "array([15,  1, 12])"
      ]
     },
     "execution_count": 68,
     "metadata": {},
     "output_type": "execute_result"
    }
   ],
   "source": [
    "arr[2,:] # 2nd row, all column"
   ]
  },
  {
   "cell_type": "markdown",
   "id": "66bb4318",
   "metadata": {},
   "source": [
    "slicing return views rather than copy like Python list"
   ]
  },
  {
   "cell_type": "code",
   "execution_count": 73,
   "id": "ebe27707",
   "metadata": {},
   "outputs": [
    {
     "data": {
      "text/plain": [
       "array([[4, 2, 3],\n",
       "       [2, 2, 2],\n",
       "       [3, 1, 4]])"
      ]
     },
     "execution_count": 73,
     "metadata": {},
     "output_type": "execute_result"
    }
   ],
   "source": [
    "arr = np.random.randint(1,5,(3,3))\n",
    "arr"
   ]
  },
  {
   "cell_type": "code",
   "execution_count": 74,
   "id": "30590a1f",
   "metadata": {},
   "outputs": [
    {
     "data": {
      "text/plain": [
       "array([[4, 2],\n",
       "       [2, 2]])"
      ]
     },
     "execution_count": 74,
     "metadata": {},
     "output_type": "execute_result"
    }
   ],
   "source": [
    "arr1= arr[:2,:2]\n",
    "arr1"
   ]
  },
  {
   "cell_type": "code",
   "execution_count": 75,
   "id": "1e7df8ec",
   "metadata": {},
   "outputs": [
    {
     "data": {
      "text/plain": [
       "array([[100,   2],\n",
       "       [  2,   2]])"
      ]
     },
     "execution_count": 75,
     "metadata": {},
     "output_type": "execute_result"
    }
   ],
   "source": [
    "arr1[0,0] = 100\n",
    "arr1"
   ]
  },
  {
   "cell_type": "code",
   "execution_count": 77,
   "id": "bb8229f9",
   "metadata": {},
   "outputs": [
    {
     "data": {
      "text/plain": [
       "array([[100,   2,   3],\n",
       "       [  2,   2,   2],\n",
       "       [  3,   1,   4]])"
      ]
     },
     "execution_count": 77,
     "metadata": {},
     "output_type": "execute_result"
    }
   ],
   "source": [
    "arr #updates original array, useful when working with large data, no need to copy underlying buffer "
   ]
  },
  {
   "cell_type": "markdown",
   "id": "a5cfecdb",
   "metadata": {},
   "source": [
    "## Reshaping array"
   ]
  },
  {
   "cell_type": "code",
   "execution_count": 84,
   "id": "3230af0b",
   "metadata": {},
   "outputs": [
    {
     "data": {
      "text/plain": [
       "array([[1, 2, 3],\n",
       "       [4, 5, 6],\n",
       "       [7, 8, 9]])"
      ]
     },
     "execution_count": 84,
     "metadata": {},
     "output_type": "execute_result"
    }
   ],
   "source": [
    "arr = np.arange(1,10).reshape(3,3)\n",
    "arr"
   ]
  },
  {
   "cell_type": "code",
   "execution_count": 89,
   "id": "55fc63ac",
   "metadata": {},
   "outputs": [
    {
     "data": {
      "text/plain": [
       "array([1, 2, 3])"
      ]
     },
     "execution_count": 89,
     "metadata": {},
     "output_type": "execute_result"
    }
   ],
   "source": [
    "arr1 = arr[0,:]\n",
    "arr1"
   ]
  },
  {
   "cell_type": "code",
   "execution_count": 90,
   "id": "3dead161",
   "metadata": {},
   "outputs": [
    {
     "data": {
      "text/plain": [
       "array([[1, 2, 3]])"
      ]
     },
     "execution_count": 90,
     "metadata": {},
     "output_type": "execute_result"
    }
   ],
   "source": [
    "arr1.reshape((1,3)) #row vector using reshape"
   ]
  },
  {
   "cell_type": "code",
   "execution_count": 92,
   "id": "c6a0c3ec",
   "metadata": {},
   "outputs": [
    {
     "data": {
      "text/plain": [
       "array([[1, 2, 3]])"
      ]
     },
     "execution_count": 92,
     "metadata": {},
     "output_type": "execute_result"
    }
   ],
   "source": [
    "arr1[np.newaxis,:] #row vector using newaxis"
   ]
  },
  {
   "cell_type": "code",
   "execution_count": 93,
   "id": "9aa8f736",
   "metadata": {},
   "outputs": [
    {
     "data": {
      "text/plain": [
       "array([[1],\n",
       "       [2],\n",
       "       [3]])"
      ]
     },
     "execution_count": 93,
     "metadata": {},
     "output_type": "execute_result"
    }
   ],
   "source": [
    "arr1.reshape((3,1)) #column vector using reshape"
   ]
  },
  {
   "cell_type": "code",
   "execution_count": 95,
   "id": "2f44a95a",
   "metadata": {},
   "outputs": [
    {
     "data": {
      "text/plain": [
       "array([[1],\n",
       "       [2],\n",
       "       [3]])"
      ]
     },
     "execution_count": 95,
     "metadata": {},
     "output_type": "execute_result"
    }
   ],
   "source": [
    "arr1[:,np.newaxis] #column vector using newaxis"
   ]
  },
  {
   "cell_type": "markdown",
   "id": "e4ccfecb",
   "metadata": {},
   "source": [
    "## Array concat and splitting"
   ]
  },
  {
   "cell_type": "code",
   "execution_count": 100,
   "id": "dc8ce01a",
   "metadata": {},
   "outputs": [],
   "source": [
    "x = np.arange(1,5)\n",
    "y = np.arange(5,10)"
   ]
  },
  {
   "cell_type": "code",
   "execution_count": 101,
   "id": "91d96758",
   "metadata": {},
   "outputs": [
    {
     "data": {
      "text/plain": [
       "array([1, 2, 3, 4])"
      ]
     },
     "execution_count": 101,
     "metadata": {},
     "output_type": "execute_result"
    }
   ],
   "source": [
    "x"
   ]
  },
  {
   "cell_type": "code",
   "execution_count": 102,
   "id": "1affad1a",
   "metadata": {},
   "outputs": [
    {
     "data": {
      "text/plain": [
       "array([5, 6, 7, 8, 9])"
      ]
     },
     "execution_count": 102,
     "metadata": {},
     "output_type": "execute_result"
    }
   ],
   "source": [
    "y"
   ]
  },
  {
   "cell_type": "code",
   "execution_count": 103,
   "id": "ca0eda8c",
   "metadata": {},
   "outputs": [
    {
     "data": {
      "text/plain": [
       "array([1, 2, 3, 4, 5, 6, 7, 8, 9])"
      ]
     },
     "execution_count": 103,
     "metadata": {},
     "output_type": "execute_result"
    }
   ],
   "source": [
    "np.concatenate([x,y])"
   ]
  },
  {
   "cell_type": "code",
   "execution_count": 116,
   "id": "3f81762e",
   "metadata": {},
   "outputs": [
    {
     "data": {
      "text/plain": [
       "array([[0.05630818, 0.37509958],\n",
       "       [0.02910324, 0.21622977]])"
      ]
     },
     "execution_count": 116,
     "metadata": {},
     "output_type": "execute_result"
    }
   ],
   "source": [
    "grid = np.random.random((2,2))\n",
    "grid"
   ]
  },
  {
   "cell_type": "code",
   "execution_count": 122,
   "id": "d51a9da1",
   "metadata": {},
   "outputs": [
    {
     "data": {
      "text/plain": [
       "array([1, 3])"
      ]
     },
     "execution_count": 122,
     "metadata": {},
     "output_type": "execute_result"
    }
   ],
   "source": [
    "arr1 = x[::2]\n",
    "arr1"
   ]
  },
  {
   "cell_type": "code",
   "execution_count": 124,
   "id": "3c2de886",
   "metadata": {},
   "outputs": [
    {
     "data": {
      "text/plain": [
       "array([[1.        , 3.        ],\n",
       "       [0.05630818, 0.37509958],\n",
       "       [0.02910324, 0.21622977]])"
      ]
     },
     "execution_count": 124,
     "metadata": {},
     "output_type": "execute_result"
    }
   ],
   "source": [
    "np.vstack([arr1,grid]) #use if different dimension"
   ]
  },
  {
   "cell_type": "code",
   "execution_count": 128,
   "id": "58895908",
   "metadata": {},
   "outputs": [
    {
     "data": {
      "text/plain": [
       "array([[1],\n",
       "       [3]])"
      ]
     },
     "execution_count": 128,
     "metadata": {},
     "output_type": "execute_result"
    }
   ],
   "source": [
    "arr2 = arr1.reshape((2,1))\n",
    "arr2"
   ]
  },
  {
   "cell_type": "code",
   "execution_count": 129,
   "id": "f139f745",
   "metadata": {},
   "outputs": [
    {
     "data": {
      "text/plain": [
       "array([[0.05630818, 0.37509958, 1.        ],\n",
       "       [0.02910324, 0.21622977, 3.        ]])"
      ]
     },
     "execution_count": 129,
     "metadata": {},
     "output_type": "execute_result"
    }
   ],
   "source": [
    "np.hstack([grid,arr2])"
   ]
  },
  {
   "cell_type": "code",
   "execution_count": 131,
   "id": "112e30b0",
   "metadata": {},
   "outputs": [
    {
     "data": {
      "text/plain": [
       "array([[0.05630818, 0.37509958],\n",
       "       [0.02910324, 0.21622977],\n",
       "       [0.05630818, 0.37509958],\n",
       "       [0.02910324, 0.21622977]])"
      ]
     },
     "execution_count": 131,
     "metadata": {},
     "output_type": "execute_result"
    }
   ],
   "source": [
    "np.concatenate([grid,grid]) #use if same dimenesion, default axis=0"
   ]
  },
  {
   "cell_type": "code",
   "execution_count": 133,
   "id": "3e3ca568",
   "metadata": {},
   "outputs": [
    {
     "data": {
      "text/plain": [
       "array([[0.05630818, 0.37509958, 0.05630818, 0.37509958],\n",
       "       [0.02910324, 0.21622977, 0.02910324, 0.21622977]])"
      ]
     },
     "execution_count": 133,
     "metadata": {},
     "output_type": "execute_result"
    }
   ],
   "source": [
    "np.concatenate([grid,grid], axis=1)"
   ]
  },
  {
   "cell_type": "code",
   "execution_count": 134,
   "id": "a720e94a",
   "metadata": {},
   "outputs": [],
   "source": [
    "#np.daxis for third axis"
   ]
  },
  {
   "cell_type": "code",
   "execution_count": 135,
   "id": "ae8300d1",
   "metadata": {},
   "outputs": [
    {
     "data": {
      "text/plain": [
       "array([0, 1, 2, 3, 4, 5, 6, 7, 8, 9])"
      ]
     },
     "execution_count": 135,
     "metadata": {},
     "output_type": "execute_result"
    }
   ],
   "source": [
    "x = np.arange(10)\n",
    "x"
   ]
  },
  {
   "cell_type": "code",
   "execution_count": 140,
   "id": "fa8ae72a",
   "metadata": {},
   "outputs": [],
   "source": [
    "x1, x2, x3 = np.split(x,[2,6]) #array and location till which you want to split"
   ]
  },
  {
   "cell_type": "code",
   "execution_count": 141,
   "id": "fc40c763",
   "metadata": {},
   "outputs": [
    {
     "name": "stdout",
     "output_type": "stream",
     "text": [
      "[0 1] [2 3 4 5] [6 7 8 9]\n"
     ]
    }
   ],
   "source": [
    "print(x1,x2,x3)"
   ]
  },
  {
   "cell_type": "code",
   "execution_count": 142,
   "id": "2988b70b",
   "metadata": {},
   "outputs": [
    {
     "data": {
      "text/plain": [
       "array([[6, 1, 9, 3, 4, 1],\n",
       "       [9, 9, 9, 9, 9, 2],\n",
       "       [4, 1, 2, 2, 6, 6],\n",
       "       [2, 6, 3, 3, 4, 3],\n",
       "       [1, 1, 3, 5, 8, 9],\n",
       "       [6, 6, 2, 1, 5, 7]])"
      ]
     },
     "execution_count": 142,
     "metadata": {},
     "output_type": "execute_result"
    }
   ],
   "source": [
    "grid = np.random.randint(1,10,(6,6))\n",
    "grid"
   ]
  },
  {
   "cell_type": "code",
   "execution_count": 147,
   "id": "1f625948",
   "metadata": {},
   "outputs": [],
   "source": [
    "upper, lower = np.vsplit(grid,[3])\n"
   ]
  },
  {
   "cell_type": "code",
   "execution_count": 148,
   "id": "12364e6c",
   "metadata": {},
   "outputs": [
    {
     "data": {
      "text/plain": [
       "array([[6, 1, 9, 3, 4, 1],\n",
       "       [9, 9, 9, 9, 9, 2],\n",
       "       [4, 1, 2, 2, 6, 6]])"
      ]
     },
     "execution_count": 148,
     "metadata": {},
     "output_type": "execute_result"
    }
   ],
   "source": [
    "upper"
   ]
  },
  {
   "cell_type": "code",
   "execution_count": 149,
   "id": "3528183a",
   "metadata": {},
   "outputs": [
    {
     "data": {
      "text/plain": [
       "array([[2, 6, 3, 3, 4, 3],\n",
       "       [1, 1, 3, 5, 8, 9],\n",
       "       [6, 6, 2, 1, 5, 7]])"
      ]
     },
     "execution_count": 149,
     "metadata": {},
     "output_type": "execute_result"
    }
   ],
   "source": [
    "lower"
   ]
  },
  {
   "cell_type": "code",
   "execution_count": 150,
   "id": "d90df004",
   "metadata": {},
   "outputs": [],
   "source": [
    "left, right = np.hsplit(grid,[3])\n"
   ]
  },
  {
   "cell_type": "code",
   "execution_count": 151,
   "id": "d6555bd6",
   "metadata": {},
   "outputs": [
    {
     "data": {
      "text/plain": [
       "array([[6, 1, 9],\n",
       "       [9, 9, 9],\n",
       "       [4, 1, 2],\n",
       "       [2, 6, 3],\n",
       "       [1, 1, 3],\n",
       "       [6, 6, 2]])"
      ]
     },
     "execution_count": 151,
     "metadata": {},
     "output_type": "execute_result"
    }
   ],
   "source": [
    "left"
   ]
  },
  {
   "cell_type": "code",
   "execution_count": 152,
   "id": "30792c2c",
   "metadata": {},
   "outputs": [
    {
     "data": {
      "text/plain": [
       "array([[3, 4, 1],\n",
       "       [9, 9, 2],\n",
       "       [2, 6, 6],\n",
       "       [3, 4, 3],\n",
       "       [5, 8, 9],\n",
       "       [1, 5, 7]])"
      ]
     },
     "execution_count": 152,
     "metadata": {},
     "output_type": "execute_result"
    }
   ],
   "source": [
    "right"
   ]
  },
  {
   "cell_type": "code",
   "execution_count": null,
   "id": "ae2d9787",
   "metadata": {},
   "outputs": [],
   "source": [
    "#use np.dsplit to split in third dimension"
   ]
  }
 ],
 "metadata": {
  "kernelspec": {
   "display_name": "Python 3 (ipykernel)",
   "language": "python",
   "name": "python3"
  },
  "language_info": {
   "codemirror_mode": {
    "name": "ipython",
    "version": 3
   },
   "file_extension": ".py",
   "mimetype": "text/x-python",
   "name": "python",
   "nbconvert_exporter": "python",
   "pygments_lexer": "ipython3",
   "version": "3.9.13"
  }
 },
 "nbformat": 4,
 "nbformat_minor": 5
}
