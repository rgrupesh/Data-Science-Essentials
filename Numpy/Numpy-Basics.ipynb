{
 "cells": [
  {
   "cell_type": "code",
   "execution_count": 1,
   "id": "c6ad3927",
   "metadata": {},
   "outputs": [],
   "source": [
    "import numpy as np"
   ]
  },
  {
   "cell_type": "code",
   "execution_count": null,
   "id": "82bb3fb9",
   "metadata": {},
   "outputs": [],
   "source": [
    "np.__version__"
   ]
  },
  {
   "cell_type": "markdown",
   "id": "c26c4231",
   "metadata": {},
   "source": [
    "## Integer"
   ]
  },
  {
   "cell_type": "markdown",
   "id": "36be746b",
   "metadata": {},
   "source": [
    "Python dynamically typed, unlike C and Java(Statically typed)\n",
    "\n",
    "**In Python** \n",
    "\n",
    "int x = 4\n",
    "\n",
    "int x = \"Rupesh\" //works\n",
    "\n",
    "**In C/Java**\n",
    "\n",
    "int x = 4\n",
    "\n",
    "int x = \"Rupesh\" //fails"
   ]
  },
  {
   "cell_type": "markdown",
   "id": "8c632b90",
   "metadata": {},
   "source": [
    "Python Integer is pointer to compound C structure. C integer is a label for postion in memory whose bytes encodes an integer value. Python integer is pointer to a position in a memory containing all the Python object information.\n",
    "\n",
    "**long integer contains:**\n",
    "\n",
    "struct _longobject {\n",
    "\n",
    "    long ob_refcnt;\n",
    "    PyTypeObject *ob_type;\n",
    "    size_t ob_size;\n",
    "    long ob_digit[1];\n",
    "    \n",
    "};\n",
    "\n"
   ]
  },
  {
   "cell_type": "markdown",
   "id": "341a41aa",
   "metadata": {},
   "source": [
    "## List"
   ]
  },
  {
   "cell_type": "code",
   "execution_count": 11,
   "id": "bb6e3df2",
   "metadata": {},
   "outputs": [
    {
     "data": {
      "text/plain": [
       "[0, 1, 2, 3, 4, 5, 6, 7, 8, 9]"
      ]
     },
     "execution_count": 11,
     "metadata": {},
     "output_type": "execute_result"
    }
   ],
   "source": [
    "L = list(range(10))\n",
    "L"
   ]
  },
  {
   "cell_type": "code",
   "execution_count": 12,
   "id": "77becd92",
   "metadata": {},
   "outputs": [
    {
     "data": {
      "text/plain": [
       "int"
      ]
     },
     "execution_count": 12,
     "metadata": {},
     "output_type": "execute_result"
    }
   ],
   "source": [
    "type(L[1])"
   ]
  },
  {
   "cell_type": "code",
   "execution_count": 13,
   "id": "1a8f739b",
   "metadata": {},
   "outputs": [
    {
     "data": {
      "text/plain": [
       "['0', '1', '2', '3', '4', '5', '6', '7', '8', '9']"
      ]
     },
     "execution_count": 13,
     "metadata": {},
     "output_type": "execute_result"
    }
   ],
   "source": [
    "L = [ str(item) for item in L]\n",
    "L"
   ]
  },
  {
   "cell_type": "code",
   "execution_count": 14,
   "id": "19676e7b",
   "metadata": {},
   "outputs": [
    {
     "data": {
      "text/plain": [
       "str"
      ]
     },
     "execution_count": 14,
     "metadata": {},
     "output_type": "execute_result"
    }
   ],
   "source": [
    "type(L[0])"
   ]
  },
  {
   "cell_type": "code",
   "execution_count": 15,
   "id": "73b6e37d",
   "metadata": {},
   "outputs": [
    {
     "data": {
      "text/plain": [
       "[bool, str, int, float]"
      ]
     },
     "execution_count": 15,
     "metadata": {},
     "output_type": "execute_result"
    }
   ],
   "source": [
    "new_list = [ True, \"Rupesh\", 1, 2.0]\n",
    "[type(item) for item in new_list]"
   ]
  },
  {
   "cell_type": "markdown",
   "id": "19c4d9f8",
   "metadata": {},
   "source": [
    "List are flexible but comes with disadvantage, all item needs to have type info, count and other information. Python list contains pointer to block of pointer which inturn has all the necessary information. Python array contains single pointer to one contigous block of data. "
   ]
  },
  {
   "cell_type": "markdown",
   "id": "ecf8549f",
   "metadata": {},
   "source": [
    "## Array"
   ]
  },
  {
   "cell_type": "code",
   "execution_count": 16,
   "id": "a147a133",
   "metadata": {},
   "outputs": [],
   "source": [
    "import array"
   ]
  },
  {
   "cell_type": "code",
   "execution_count": 21,
   "id": "72fe1c32",
   "metadata": {},
   "outputs": [
    {
     "data": {
      "text/plain": [
       "array('f', [0.0, 1.0, 2.0, 3.0, 4.0, 5.0, 6.0, 7.0, 8.0, 9.0])"
      ]
     },
     "execution_count": 21,
     "metadata": {},
     "output_type": "execute_result"
    }
   ],
   "source": [
    "arr = array.array('f',range(10))\n",
    "arr"
   ]
  },
  {
   "cell_type": "markdown",
   "id": "8c06330d",
   "metadata": {},
   "source": [
    "Although Python array provides efficient data storage, Numpy provides efficient operations on those data. "
   ]
  },
  {
   "cell_type": "markdown",
   "id": "610b7dc7",
   "metadata": {},
   "source": [
    "## Array from Python List"
   ]
  },
  {
   "cell_type": "code",
   "execution_count": 23,
   "id": "83485bf6",
   "metadata": {},
   "outputs": [
    {
     "data": {
      "text/plain": [
       "array([1, 2, 3])"
      ]
     },
     "execution_count": 23,
     "metadata": {},
     "output_type": "execute_result"
    }
   ],
   "source": [
    "np_arr = np.array([1,2,3])\n",
    "np_arr"
   ]
  },
  {
   "cell_type": "code",
   "execution_count": 24,
   "id": "0373a381",
   "metadata": {},
   "outputs": [
    {
     "data": {
      "text/plain": [
       "numpy.ndarray"
      ]
     },
     "execution_count": 24,
     "metadata": {},
     "output_type": "execute_result"
    }
   ],
   "source": [
    "type(np_arr)"
   ]
  },
  {
   "cell_type": "code",
   "execution_count": 26,
   "id": "14a8bc3f",
   "metadata": {},
   "outputs": [
    {
     "data": {
      "text/plain": [
       "array([1., 2., 3., 4.])"
      ]
     },
     "execution_count": 26,
     "metadata": {},
     "output_type": "execute_result"
    }
   ],
   "source": [
    "arr= np.array([1.0,2,3,4.0])\n",
    "arr #upcasts to float"
   ]
  },
  {
   "cell_type": "code",
   "execution_count": 28,
   "id": "498992c0",
   "metadata": {},
   "outputs": [
    {
     "data": {
      "text/plain": [
       "array([1., 2., 3., 4.], dtype=float32)"
      ]
     },
     "execution_count": 28,
     "metadata": {},
     "output_type": "execute_result"
    }
   ],
   "source": [
    "np.array([1,2,3,4], dtype='float32')"
   ]
  },
  {
   "cell_type": "code",
   "execution_count": 31,
   "id": "c6c7e395",
   "metadata": {},
   "outputs": [
    {
     "data": {
      "text/plain": [
       "array([[2, 3, 4],\n",
       "       [3, 4, 5],\n",
       "       [4, 5, 6]])"
      ]
     },
     "execution_count": 31,
     "metadata": {},
     "output_type": "execute_result"
    }
   ],
   "source": [
    "np.array([range(i, i+3) for i in [2,3,4]]) # multi-dimensional array "
   ]
  },
  {
   "cell_type": "markdown",
   "id": "f53b3c29",
   "metadata": {},
   "source": [
    "## More ways to create numpy array"
   ]
  },
  {
   "cell_type": "code",
   "execution_count": 33,
   "id": "3774e89c",
   "metadata": {},
   "outputs": [
    {
     "data": {
      "text/plain": [
       "array([0, 0, 0, 0, 0, 0, 0, 0, 0, 0])"
      ]
     },
     "execution_count": 33,
     "metadata": {},
     "output_type": "execute_result"
    }
   ],
   "source": [
    "np.zeros(10,dtype='int') #length 10 array filled with zero"
   ]
  },
  {
   "cell_type": "code",
   "execution_count": 75,
   "id": "67e1f4bf",
   "metadata": {},
   "outputs": [
    {
     "data": {
      "text/plain": [
       "array([[1., 1., 1., 1., 1.],\n",
       "       [1., 1., 1., 1., 1.]], dtype=float32)"
      ]
     },
     "execution_count": 75,
     "metadata": {},
     "output_type": "execute_result"
    }
   ],
   "source": [
    "np.ones((2,5),dtype= np.float32) # 2*5 floating point array filled with one"
   ]
  },
  {
   "cell_type": "code",
   "execution_count": 76,
   "id": "3857e8ec",
   "metadata": {},
   "outputs": [
    {
     "data": {
      "text/plain": [
       "array([[100, 100, 100, 100, 100],\n",
       "       [100, 100, 100, 100, 100],\n",
       "       [100, 100, 100, 100, 100]])"
      ]
     },
     "execution_count": 76,
     "metadata": {},
     "output_type": "execute_result"
    }
   ],
   "source": [
    "np.full((3,5),100) #3*5 array filled with number 100"
   ]
  },
  {
   "cell_type": "code",
   "execution_count": 77,
   "id": "74fe15d7",
   "metadata": {},
   "outputs": [
    {
     "data": {
      "text/plain": [
       "array([ 0,  2,  4,  6,  8, 10, 12, 14, 16, 18])"
      ]
     },
     "execution_count": 77,
     "metadata": {},
     "output_type": "execute_result"
    }
   ],
   "source": [
    "np.arange(0,20,2) #start 0, end before 20, step 2, similar to built in range function"
   ]
  },
  {
   "cell_type": "code",
   "execution_count": 78,
   "id": "85741862",
   "metadata": {},
   "outputs": [
    {
     "data": {
      "text/plain": [
       "array([0.  , 0.25, 0.5 , 0.75, 1.  ])"
      ]
     },
     "execution_count": 78,
     "metadata": {},
     "output_type": "execute_result"
    }
   ],
   "source": [
    "np.linspace(0,1,5) #array of five equally spaced values between 0 to 1"
   ]
  },
  {
   "cell_type": "code",
   "execution_count": 79,
   "id": "031bc2e8",
   "metadata": {},
   "outputs": [
    {
     "data": {
      "text/plain": [
       "array([[0.1452168 , 0.7724171 , 0.75550029, 0.58951144],\n",
       "       [0.9143593 , 0.45047622, 0.4162489 , 0.082162  ],\n",
       "       [0.56141517, 0.75580785, 0.42811409, 0.03207837],\n",
       "       [0.71972393, 0.79489957, 0.91770944, 0.83053447]])"
      ]
     },
     "execution_count": 79,
     "metadata": {},
     "output_type": "execute_result"
    }
   ],
   "source": [
    "np.random.random((4,4)) # creates 4*4 array of uniformly distributed random values between 0 and 1"
   ]
  },
  {
   "cell_type": "code",
   "execution_count": 80,
   "id": "fb0c1166",
   "metadata": {},
   "outputs": [
    {
     "data": {
      "text/plain": [
       "array([[ 1.71650314, -1.86798034, -0.26039996, -1.09774052],\n",
       "       [ 0.65576553,  1.03039477, -1.30016671, -0.25927862],\n",
       "       [-1.05561748,  0.63089686,  1.53992406, -0.64775693],\n",
       "       [ 0.7772668 , -1.18274163, -2.26449476, -0.74553259]])"
      ]
     },
     "execution_count": 80,
     "metadata": {},
     "output_type": "execute_result"
    }
   ],
   "source": [
    "np.random.normal(0,1,(4,4)) # creates 4*4 array of normally distribued random values having mean 0 and standard deviation 1"
   ]
  },
  {
   "cell_type": "code",
   "execution_count": 81,
   "id": "721f3f9d",
   "metadata": {},
   "outputs": [
    {
     "data": {
      "text/plain": [
       "array([[ 1, 15,  7, 16],\n",
       "       [14, 16, 17, 13],\n",
       "       [16, 19,  8, 13],\n",
       "       [17,  7, 11, 13]])"
      ]
     },
     "execution_count": 81,
     "metadata": {},
     "output_type": "execute_result"
    }
   ],
   "source": [
    "np.random.randint(1,20,(4,4)) #4*4 array of random integer between 1 and 20"
   ]
  },
  {
   "cell_type": "code",
   "execution_count": 82,
   "id": "afc421b3",
   "metadata": {},
   "outputs": [
    {
     "data": {
      "text/plain": [
       "array([[1., 0., 0.],\n",
       "       [0., 1., 0.],\n",
       "       [0., 0., 1.]])"
      ]
     },
     "execution_count": 82,
     "metadata": {},
     "output_type": "execute_result"
    }
   ],
   "source": [
    "np.eye(3) #creates 3*3 identity matrix"
   ]
  },
  {
   "cell_type": "code",
   "execution_count": 83,
   "id": "4417373c",
   "metadata": {},
   "outputs": [
    {
     "data": {
      "text/plain": [
       "array([1., 1., 1.])"
      ]
     },
     "execution_count": 83,
     "metadata": {},
     "output_type": "execute_result"
    }
   ],
   "source": [
    "np.empty(3, dtype='float') #uninitialized array "
   ]
  },
  {
   "cell_type": "markdown",
   "id": "5f4cc0ad",
   "metadata": {},
   "source": [
    "## Array attributes"
   ]
  },
  {
   "cell_type": "code",
   "execution_count": 86,
   "id": "85bea4e5",
   "metadata": {},
   "outputs": [
    {
     "data": {
      "text/plain": [
       "array([[[2, 1, 6, 6, 4],\n",
       "        [5, 4, 9, 7, 9],\n",
       "        [5, 9, 1, 8, 7],\n",
       "        [9, 4, 2, 2, 2]],\n",
       "\n",
       "       [[2, 5, 8, 9, 6],\n",
       "        [7, 6, 1, 1, 6],\n",
       "        [6, 0, 4, 6, 0],\n",
       "        [5, 0, 1, 0, 3]],\n",
       "\n",
       "       [[6, 5, 5, 2, 7],\n",
       "        [6, 2, 3, 7, 7],\n",
       "        [2, 3, 1, 8, 4],\n",
       "        [3, 6, 1, 8, 2]]])"
      ]
     },
     "execution_count": 86,
     "metadata": {},
     "output_type": "execute_result"
    }
   ],
   "source": [
    "arr= np.random.randint(10,size= (3,4,5))\n",
    "arr"
   ]
  },
  {
   "cell_type": "code",
   "execution_count": 111,
   "id": "eaa48a46",
   "metadata": {},
   "outputs": [
    {
     "name": "stdout",
     "output_type": "stream",
     "text": [
      "shape= (3, 4, 5) ,ndim= 3 ,size= 60 ,dtype= int64\n"
     ]
    }
   ],
   "source": [
    "print(\"shape=\", arr.shape, \",ndim=\", arr.ndim , \",size=\", arr.size, \",dtype=\", arr.dtype)"
   ]
  },
  {
   "cell_type": "code",
   "execution_count": 110,
   "id": "e55d23ed",
   "metadata": {},
   "outputs": [
    {
     "name": "stdout",
     "output_type": "stream",
     "text": [
      "Shape= 60 \n"
     ]
    }
   ],
   "source": [
    "print(f\"Shape= {str(arr.size)} \")"
   ]
  },
  {
   "cell_type": "code",
   "execution_count": 113,
   "id": "2ad989cd",
   "metadata": {},
   "outputs": [
    {
     "name": "stdout",
     "output_type": "stream",
     "text": [
      "Size of each element(in bytes) 8 \n",
      "Size of total element(in bytes) 480\n"
     ]
    }
   ],
   "source": [
    "print(\"Size of each element(in bytes)\", arr.itemsize, \"\\n\" \"Size of total element(in bytes)\", arr.nbytes)"
   ]
  },
  {
   "cell_type": "markdown",
   "id": "db376e54",
   "metadata": {},
   "source": [
    "## Array Indexing"
   ]
  },
  {
   "cell_type": "code",
   "execution_count": 150,
   "id": "890f8bb4",
   "metadata": {},
   "outputs": [
    {
     "data": {
      "text/plain": [
       "array([[22, 15, 21, 10],\n",
       "       [12, 10, 28, 20],\n",
       "       [10, 27, 14, 23],\n",
       "       [23, 15, 19, 15]])"
      ]
     },
     "execution_count": 150,
     "metadata": {},
     "output_type": "execute_result"
    }
   ],
   "source": [
    "arr = np.random.randint(10,30,(4,4))\n",
    "arr"
   ]
  },
  {
   "cell_type": "code",
   "execution_count": 151,
   "id": "8acee567",
   "metadata": {},
   "outputs": [
    {
     "data": {
      "text/plain": [
       "22"
      ]
     },
     "execution_count": 151,
     "metadata": {},
     "output_type": "execute_result"
    }
   ],
   "source": [
    "arr[0,0]"
   ]
  },
  {
   "cell_type": "code",
   "execution_count": 152,
   "id": "a797fad1",
   "metadata": {},
   "outputs": [
    {
     "data": {
      "text/plain": [
       "array([[10, 27, 14, 23]])"
      ]
     },
     "execution_count": 152,
     "metadata": {},
     "output_type": "execute_result"
    }
   ],
   "source": [
    "arr[2:-1]"
   ]
  },
  {
   "cell_type": "code",
   "execution_count": 153,
   "id": "5d14135b",
   "metadata": {},
   "outputs": [
    {
     "data": {
      "text/plain": [
       "array([ 5,  7,  9, 11, 13])"
      ]
     },
     "execution_count": 153,
     "metadata": {},
     "output_type": "execute_result"
    }
   ],
   "source": [
    "arr1 = np.arange(5,15,2)\n",
    "arr1"
   ]
  },
  {
   "cell_type": "code",
   "execution_count": 154,
   "id": "6dd640ff",
   "metadata": {},
   "outputs": [
    {
     "data": {
      "text/plain": [
       "array([ 5,  7,  9, 11, 15])"
      ]
     },
     "execution_count": 154,
     "metadata": {},
     "output_type": "execute_result"
    }
   ],
   "source": [
    "arr1[4] = 15\n",
    "arr1"
   ]
  },
  {
   "cell_type": "code",
   "execution_count": 155,
   "id": "6926f319",
   "metadata": {},
   "outputs": [],
   "source": [
    "arr[3,3] = 3.14\n"
   ]
  },
  {
   "cell_type": "code",
   "execution_count": 159,
   "id": "ae8d4642",
   "metadata": {},
   "outputs": [
    {
     "data": {
      "text/plain": [
       "array([[22, 15, 21, 10],\n",
       "       [12, 10, 28, 20],\n",
       "       [10, 27, 14, 23],\n",
       "       [23, 15, 19,  3]])"
      ]
     },
     "execution_count": 159,
     "metadata": {},
     "output_type": "execute_result"
    }
   ],
   "source": [
    "arr #gets sliently truncated"
   ]
  },
  {
   "cell_type": "code",
   "execution_count": 160,
   "id": "dbbdddf6",
   "metadata": {},
   "outputs": [
    {
     "data": {
      "text/plain": [
       "dtype('int64')"
      ]
     },
     "execution_count": 160,
     "metadata": {},
     "output_type": "execute_result"
    }
   ],
   "source": [
    "arr.dtype"
   ]
  },
  {
   "cell_type": "code",
   "execution_count": null,
   "id": "f07d3ecb",
   "metadata": {},
   "outputs": [],
   "source": []
  }
 ],
 "metadata": {
  "kernelspec": {
   "display_name": "Python 3 (ipykernel)",
   "language": "python",
   "name": "python3"
  },
  "language_info": {
   "codemirror_mode": {
    "name": "ipython",
    "version": 3
   },
   "file_extension": ".py",
   "mimetype": "text/x-python",
   "name": "python",
   "nbconvert_exporter": "python",
   "pygments_lexer": "ipython3",
   "version": "3.9.13"
  }
 },
 "nbformat": 4,
 "nbformat_minor": 5
}
